{
 "cells": [
  {
   "cell_type": "markdown",
   "id": "988b3c8e",
   "metadata": {},
   "source": [
    "# The \"SPARKS FOUNDATION\"- GRIP \n",
    "\n",
    "\n",
    "# Data Science and Business Analytics - Feb'2023\n",
    "\n",
    "***BY- Ashish Jose***\n",
    "\n",
    "\n",
    "# TASK 2 : Prediction using unsupervised ML\n",
    "\n",
    "**DATA SET USED**\n",
    "   * IRIS FLOWER DATASET\n",
    "\n",
    "**LINK TO DOWNLOAD THIS DATASET**   \n",
    "*[https://bit.ly/3kXTdox]\n",
    "\n",
    "**PROBLEM STATEMENT**\n",
    "* Predict the optimum number of clusters and represent it visually."
   ]
  },
  {
   "cell_type": "markdown",
   "id": "c9c37a08",
   "metadata": {},
   "source": [
    "#### Importing Libraries"
   ]
  },
  {
   "cell_type": "code",
   "execution_count": 1,
   "id": "b2af274a",
   "metadata": {},
   "outputs": [
    {
     "ename": "ModuleNotFoundError",
     "evalue": "No module named 'seaborn'",
     "output_type": "error",
     "traceback": [
      "\u001b[1;31m---------------------------------------------------------------------------\u001b[0m",
      "\u001b[1;31mModuleNotFoundError\u001b[0m                       Traceback (most recent call last)",
      "Cell \u001b[1;32mIn[1], line 3\u001b[0m\n\u001b[0;32m      1\u001b[0m \u001b[38;5;28;01mimport\u001b[39;00m \u001b[38;5;21;01mpandas\u001b[39;00m \u001b[38;5;28;01mas\u001b[39;00m \u001b[38;5;21;01mpd\u001b[39;00m\n\u001b[0;32m      2\u001b[0m \u001b[38;5;28;01mimport\u001b[39;00m \u001b[38;5;21;01mnumpy\u001b[39;00m \u001b[38;5;28;01mas\u001b[39;00m \u001b[38;5;21;01mnp\u001b[39;00m\n\u001b[1;32m----> 3\u001b[0m \u001b[38;5;28;01mimport\u001b[39;00m \u001b[38;5;21;01mseaborn\u001b[39;00m \u001b[38;5;28;01mas\u001b[39;00m \u001b[38;5;21;01msns\u001b[39;00m\n\u001b[0;32m      4\u001b[0m \u001b[38;5;28;01mimport\u001b[39;00m \u001b[38;5;21;01mmatplotlib\u001b[39;00m\u001b[38;5;21;01m.\u001b[39;00m\u001b[38;5;21;01mpyplot\u001b[39;00m \u001b[38;5;28;01mas\u001b[39;00m \u001b[38;5;21;01mplt\u001b[39;00m\n\u001b[0;32m      5\u001b[0m get_ipython()\u001b[38;5;241m.\u001b[39mrun_line_magic(\u001b[38;5;124m'\u001b[39m\u001b[38;5;124mmatplotlib\u001b[39m\u001b[38;5;124m'\u001b[39m, \u001b[38;5;124m'\u001b[39m\u001b[38;5;124minline\u001b[39m\u001b[38;5;124m'\u001b[39m)\n",
      "\u001b[1;31mModuleNotFoundError\u001b[0m: No module named 'seaborn'"
     ]
    }
   ],
   "source": [
    "import pandas as pd\n",
    "import numpy as np\n",
    "import seaborn as sns\n",
    "import matplotlib.pyplot as plt\n",
    "%matplotlib inline\n",
    "import warnings\n",
    "warnings.filterwarnings(\"ignore\")"
   ]
  },
  {
   "cell_type": "markdown",
   "id": "f532366e",
   "metadata": {},
   "source": [
    "#### Importing Dataset"
   ]
  },
  {
   "cell_type": "code",
   "execution_count": null,
   "id": "9e52a693",
   "metadata": {},
   "outputs": [],
   "source": [
    "iris_df = pd.read_csv(\"Iris.csv\")\n",
    "iris_df.head()"
   ]
  },
  {
   "cell_type": "markdown",
   "id": "1195c2f8",
   "metadata": {},
   "source": [
    "#### Exploratory Data Analysis "
   ]
  },
  {
   "cell_type": "code",
   "execution_count": null,
   "id": "4934b2b7",
   "metadata": {},
   "outputs": [],
   "source": [
    "iris_df.shape"
   ]
  },
  {
   "cell_type": "code",
   "execution_count": null,
   "id": "13482a55",
   "metadata": {},
   "outputs": [],
   "source": [
    "iris_df.info()"
   ]
  },
  {
   "cell_type": "code",
   "execution_count": null,
   "id": "aef08064",
   "metadata": {},
   "outputs": [],
   "source": [
    "#dropping unwanted id coloumn from data\n",
    "iris_df.drop('Id',axis=1,inplace = True)"
   ]
  },
  {
   "cell_type": "code",
   "execution_count": null,
   "id": "85a62ada",
   "metadata": {},
   "outputs": [],
   "source": [
    "iris_df.head(5)"
   ]
  },
  {
   "cell_type": "code",
   "execution_count": null,
   "id": "13c51b15",
   "metadata": {},
   "outputs": [],
   "source": [
    "iris_df.tail()"
   ]
  },
  {
   "cell_type": "code",
   "execution_count": null,
   "id": "7182e457",
   "metadata": {},
   "outputs": [],
   "source": [
    "#checking for missing values\n",
    "iris_df.isnull().sum()"
   ]
  },
  {
   "cell_type": "code",
   "execution_count": null,
   "id": "729f7a1a",
   "metadata": {},
   "outputs": [],
   "source": [
    "iris_df.duplicated().sum()"
   ]
  },
  {
   "cell_type": "code",
   "execution_count": null,
   "id": "8117acc1",
   "metadata": {},
   "outputs": [],
   "source": [
    "iris_df.nunique()"
   ]
  },
  {
   "cell_type": "code",
   "execution_count": null,
   "id": "207f0a16",
   "metadata": {},
   "outputs": [],
   "source": [
    "iris_df.describe()"
   ]
  },
  {
   "cell_type": "code",
   "execution_count": null,
   "id": "bdbb9ad8",
   "metadata": {},
   "outputs": [],
   "source": [
    "iris_df.columns"
   ]
  },
  {
   "cell_type": "code",
   "execution_count": null,
   "id": "fb1ac3c3",
   "metadata": {},
   "outputs": [],
   "source": [
    "#unique values\n",
    "iris_df['SepalLengthCm'].unique()"
   ]
  },
  {
   "cell_type": "code",
   "execution_count": null,
   "id": "eddfac71",
   "metadata": {},
   "outputs": [],
   "source": [
    "iris_df['SepalWidthCm'].unique()"
   ]
  },
  {
   "cell_type": "code",
   "execution_count": null,
   "id": "cca5aeab",
   "metadata": {},
   "outputs": [],
   "source": [
    "iris_df['PetalLengthCm'].unique()"
   ]
  },
  {
   "cell_type": "code",
   "execution_count": null,
   "id": "a6442a8b",
   "metadata": {},
   "outputs": [],
   "source": [
    "iris_df['PetalWidthCm'].unique()"
   ]
  },
  {
   "cell_type": "code",
   "execution_count": null,
   "id": "d01e5424",
   "metadata": {},
   "outputs": [],
   "source": [
    "iris_df['Species'].value_counts()"
   ]
  },
  {
   "cell_type": "code",
   "execution_count": null,
   "id": "8ba07deb",
   "metadata": {},
   "outputs": [],
   "source": [
    "iris_df.corr()"
   ]
  },
  {
   "cell_type": "code",
   "execution_count": null,
   "id": "cc4fe5e4",
   "metadata": {},
   "outputs": [],
   "source": [
    "iris1=iris_df[iris_df['Species']=='Iris-setosa']\n",
    "iris2=iris_df[iris_df['Species']=='Iris-versicolor']\n",
    "iris3=iris_df[iris_df['Species']=='Iris-virginica']"
   ]
  },
  {
   "cell_type": "code",
   "execution_count": null,
   "id": "497cb9c7",
   "metadata": {},
   "outputs": [],
   "source": [
    "plt.scatter(iris1['SepalLengthCm'],iris1['SepalWidthCm'],color = 'yellow',label='Iris-setosa')\n",
    "plt.scatter(iris2['SepalLengthCm'],iris2['SepalWidthCm'],color = 'orange',label='Iris-versicolor')\n",
    "plt.scatter(iris3['SepalLengthCm'],iris3['SepalWidthCm'],color = 'green',label='Iris-virginica')\n",
    "\n",
    "plt.legend()\n"
   ]
  },
  {
   "cell_type": "code",
   "execution_count": null,
   "id": "83ca61fb",
   "metadata": {},
   "outputs": [],
   "source": [
    "plt.scatter(iris1['PetalLengthCm'],iris1['PetalWidthCm'],color = 'yellow',label='Iris-setosa')\n",
    "plt.scatter(iris2['PetalLengthCm'],iris2['PetalWidthCm'],color = 'orange',label='Iris-versicolor')\n",
    "plt.scatter(iris3['PetalLengthCm'],iris3['PetalWidthCm'],color = 'green',label='Iris-virginica')\n",
    "\n",
    "plt.legend()"
   ]
  },
  {
   "cell_type": "code",
   "execution_count": null,
   "id": "02834d92",
   "metadata": {},
   "outputs": [],
   "source": [
    "sns.pairplot(data=iris_df,hue='Species')"
   ]
  },
  {
   "cell_type": "markdown",
   "id": "8b8c74ee",
   "metadata": {},
   "source": [
    "Iris-Setosa can be separated easily "
   ]
  },
  {
   "cell_type": "code",
   "execution_count": null,
   "id": "a9a47242",
   "metadata": {},
   "outputs": [],
   "source": [
    "import os\n",
    "os.environ[\"OMP_NUM_THREADS\"] = '1'"
   ]
  },
  {
   "cell_type": "markdown",
   "id": "818ac969",
   "metadata": {},
   "source": [
    "#### Finding the optimum number of clusters for k-means classification"
   ]
  },
  {
   "cell_type": "code",
   "execution_count": null,
   "id": "7c541b48",
   "metadata": {},
   "outputs": [],
   "source": [
    "\n",
    "df = iris_df.iloc[:,:-1].values\n",
    "k = range(1,11)\n",
    "\n",
    "from sklearn.cluster import KMeans\n",
    "SSE = []\n",
    "\n",
    "for km in k:\n",
    "    kmeans = KMeans(n_clusters = km,max_iter = 300).fit(df)\n",
    "    SSE.append(kmeans.inertia_)\n",
    "    \n",
    "SSE"
   ]
  },
  {
   "cell_type": "code",
   "execution_count": null,
   "id": "e3506c36",
   "metadata": {
    "scrolled": true
   },
   "outputs": [],
   "source": [
    "\n",
    "plt.figure(figsize=(12,6))\n",
    "plt.plot(k,SSE, marker='o')\n",
    "plt.xlabel('Number of clusters')\n",
    "plt.ylabel('Inertia');\n",
    "plt.title(\"'ELBOW METHOD TO DETERMINE OPTIMAL VALUE OF 'K'\\n\");"
   ]
  },
  {
   "cell_type": "markdown",
   "id": "98f226d3",
   "metadata": {},
   "source": [
    "### Applying kmeans to the dataset / Creating the kmeans classifier"
   ]
  },
  {
   "cell_type": "code",
   "execution_count": null,
   "id": "258e79df",
   "metadata": {},
   "outputs": [],
   "source": [
    "kmeans = KMeans(n_clusters = 3, init = 'k-means++',\n",
    "                max_iter = 300, n_init = 10, random_state = 0)\n",
    "y = kmeans.fit_predict(df)"
   ]
  },
  {
   "cell_type": "code",
   "execution_count": null,
   "id": "d72a10f1",
   "metadata": {},
   "outputs": [],
   "source": [
    "y"
   ]
  },
  {
   "cell_type": "code",
   "execution_count": null,
   "id": "fb1cd8ab",
   "metadata": {},
   "outputs": [],
   "source": [
    "kmeans.cluster_centers_"
   ]
  },
  {
   "cell_type": "code",
   "execution_count": null,
   "id": "c4f6c14d",
   "metadata": {},
   "outputs": [],
   "source": [
    "\n",
    "plt.scatter(df[y==1,2 ],df[y==1,3 ], color='black' , label='Iris-setosa')\n",
    "plt.scatter(df[y==2,2 ],df[y==2,3 ], color='purple', label='Iris-virginica')\n",
    "plt.scatter(df[y==0,2 ],df[y==0,3 ], color='g' , label='Iris-versicolor ')\n",
    "\n",
    "\n",
    "plt.legend()\n",
    "plt.show()\n",
    "     "
   ]
  },
  {
   "cell_type": "markdown",
   "id": "f0eff662",
   "metadata": {},
   "source": [
    "<!--  -->\n"
   ]
  },
  {
   "cell_type": "markdown",
   "id": "035293d7",
   "metadata": {},
   "source": [
    "# Here, we come to an end of this task. \n",
    "# Thank You"
   ]
  }
 ],
 "metadata": {
  "kernelspec": {
   "display_name": "Python 3 (ipykernel)",
   "language": "python",
   "name": "python3"
  },
  "language_info": {
   "codemirror_mode": {
    "name": "ipython",
    "version": 3
   },
   "file_extension": ".py",
   "mimetype": "text/x-python",
   "name": "python",
   "nbconvert_exporter": "python",
   "pygments_lexer": "ipython3",
   "version": "3.11.1"
  }
 },
 "nbformat": 4,
 "nbformat_minor": 5
}
